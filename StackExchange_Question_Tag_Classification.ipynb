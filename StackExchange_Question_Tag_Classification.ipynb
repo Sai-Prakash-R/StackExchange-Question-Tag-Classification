{
  "cells": [
    {
      "cell_type": "markdown",
      "metadata": {
        "id": "Vl3eIEYFkgP7"
      },
      "source": [
        "# <font color ='pickle'>Stack Excahnge Question Tags Multi-Label Classification\n",
        "\n",
        "# <font size = 5, color = 'pickle'>**Task: Given title and body of the question, predict all the Question Tags (technical Domain).** \n",
        "\n",
        "\n",
        "\n",
        "\n",
        "\n"
      ]
    },
    {
      "cell_type": "markdown",
      "metadata": {
        "id": "FIxAU6f3S-MI"
      },
      "source": [
        "# <Font color = 'pickle'>**Load Libraries/Install Software**"
      ]
    },
    {
      "cell_type": "code",
      "execution_count": null,
      "metadata": {
        "execution": {
          "iopub.execute_input": "2022-10-02T10:35:35.790529Z",
          "iopub.status.busy": "2022-10-02T10:35:35.790311Z",
          "iopub.status.idle": "2022-10-02T10:35:35.800037Z",
          "shell.execute_reply": "2022-10-02T10:35:35.799579Z",
          "shell.execute_reply.started": "2022-10-02T10:35:35.790485Z"
        },
        "id": "silZTZDXNSGU"
      },
      "outputs": [],
      "source": [
        "%load_ext autoreload\n",
        "%autoreload 2"
      ]
    },
    {
      "cell_type": "code",
      "execution_count": null,
      "metadata": {
        "execution": {
          "iopub.execute_input": "2022-10-02T10:35:36.754664Z",
          "iopub.status.busy": "2022-10-02T10:35:36.754227Z",
          "iopub.status.idle": "2022-10-02T10:35:36.760593Z",
          "shell.execute_reply": "2022-10-02T10:35:36.760035Z",
          "shell.execute_reply.started": "2022-10-02T10:35:36.754648Z"
        },
        "id": "-h5a-vtFb738",
        "tags": [],
        "colab": {
          "base_uri": "https://localhost:8080/"
        },
        "outputId": "ff8e7efe-132f-49fd-8c8a-b53cfa908110"
      },
      "outputs": [
        {
          "output_type": "stream",
          "name": "stdout",
          "text": [
            "Mounted at /content/drive\n",
            "\n",
            "Usage:   \n",
            "  pip3 install [options] <requirement specifier> [package-index-options] ...\n",
            "  pip3 install [options] -r <requirements file> [package-index-options] ...\n",
            "  pip3 install [options] [-e] <vcs project url> ...\n",
            "  pip3 install [options] [-e] <local project path> ...\n",
            "  pip3 install [options] <archive url/path> ...\n",
            "\n",
            "no such option: -u\n",
            "Looking in indexes: https://pypi.org/simple, https://us-python.pkg.dev/colab-wheels/public/simple/\n",
            "Collecting torchmetrics\n",
            "  Downloading torchmetrics-0.11.4-py3-none-any.whl (519 kB)\n",
            "\u001b[2K     \u001b[90m━━━━━━━━━━━━━━━━━━━━━━━━━━━━━━━━━━━━━━\u001b[0m \u001b[32m519.2/519.2 KB\u001b[0m \u001b[31m10.2 MB/s\u001b[0m eta \u001b[36m0:00:00\u001b[0m\n",
            "\u001b[?25hRequirement already satisfied: packaging in /usr/local/lib/python3.9/dist-packages (from torchmetrics) (23.0)\n",
            "Requirement already satisfied: torch>=1.8.1 in /usr/local/lib/python3.9/dist-packages (from torchmetrics) (2.0.0+cu118)\n",
            "Requirement already satisfied: numpy>=1.17.2 in /usr/local/lib/python3.9/dist-packages (from torchmetrics) (1.22.4)\n",
            "Requirement already satisfied: jinja2 in /usr/local/lib/python3.9/dist-packages (from torch>=1.8.1->torchmetrics) (3.1.2)\n",
            "Requirement already satisfied: filelock in /usr/local/lib/python3.9/dist-packages (from torch>=1.8.1->torchmetrics) (3.10.7)\n",
            "Requirement already satisfied: triton==2.0.0 in /usr/local/lib/python3.9/dist-packages (from torch>=1.8.1->torchmetrics) (2.0.0)\n",
            "Requirement already satisfied: sympy in /usr/local/lib/python3.9/dist-packages (from torch>=1.8.1->torchmetrics) (1.11.1)\n",
            "Requirement already satisfied: networkx in /usr/local/lib/python3.9/dist-packages (from torch>=1.8.1->torchmetrics) (3.0)\n",
            "Requirement already satisfied: typing-extensions in /usr/local/lib/python3.9/dist-packages (from torch>=1.8.1->torchmetrics) (4.5.0)\n",
            "Requirement already satisfied: cmake in /usr/local/lib/python3.9/dist-packages (from triton==2.0.0->torch>=1.8.1->torchmetrics) (3.25.2)\n",
            "Requirement already satisfied: lit in /usr/local/lib/python3.9/dist-packages (from triton==2.0.0->torch>=1.8.1->torchmetrics) (16.0.0)\n",
            "Requirement already satisfied: MarkupSafe>=2.0 in /usr/local/lib/python3.9/dist-packages (from jinja2->torch>=1.8.1->torchmetrics) (2.1.2)\n",
            "Requirement already satisfied: mpmath>=0.19 in /usr/local/lib/python3.9/dist-packages (from sympy->torch>=1.8.1->torchmetrics) (1.3.0)\n",
            "Installing collected packages: torchmetrics\n",
            "Successfully installed torchmetrics-0.11.4\n"
          ]
        }
      ],
      "source": [
        "import sys\n",
        "if 'google.colab' in str(get_ipython()):\n",
        "    from google.colab import drive\n",
        "    drive.mount('/content/drive')\n",
        "\n",
        "    !pip install torchtext - -upgrade\n",
        "    !pip install torchmetrics\n",
        "\n",
        "    basepath = '/content/drive/MyDrive/data'\n",
        "    sys.path.append('/content/drive/MyDrive/Applied Natural Language Processing/Assignments/HW6')"
      ]
    },
    {
      "cell_type": "code",
      "source": [
        "pip install scikit-multilearn"
      ],
      "metadata": {
        "colab": {
          "base_uri": "https://localhost:8080/"
        },
        "id": "PHhLvYel08wj",
        "outputId": "3c721b90-9d34-404e-cede-e536095007c3"
      },
      "execution_count": null,
      "outputs": [
        {
          "output_type": "stream",
          "name": "stdout",
          "text": [
            "Looking in indexes: https://pypi.org/simple, https://us-python.pkg.dev/colab-wheels/public/simple/\n",
            "Collecting scikit-multilearn\n",
            "  Downloading scikit_multilearn-0.2.0-py3-none-any.whl (89 kB)\n",
            "\u001b[2K     \u001b[90m━━━━━━━━━━━━━━━━━━━━━━━━━━━━━━━━━━━━━━━━\u001b[0m \u001b[32m89.4/89.4 KB\u001b[0m \u001b[31m3.3 MB/s\u001b[0m eta \u001b[36m0:00:00\u001b[0m\n",
            "\u001b[?25hInstalling collected packages: scikit-multilearn\n",
            "Successfully installed scikit-multilearn-0.2.0\n"
          ]
        }
      ]
    },
    {
      "cell_type": "code",
      "execution_count": null,
      "metadata": {
        "execution": {
          "iopub.execute_input": "2022-10-02T10:35:51.980836Z",
          "iopub.status.busy": "2022-10-02T10:35:51.980539Z",
          "iopub.status.idle": "2022-10-02T10:35:52.005949Z",
          "shell.execute_reply": "2022-10-02T10:35:52.005549Z",
          "shell.execute_reply.started": "2022-10-02T10:35:51.980815Z"
        },
        "id": "TqYqOtp5yluv",
        "tags": []
      },
      "outputs": [],
      "source": [
        "# Importing the necessary libraries\n",
        "import torch\n",
        "import torch.nn as nn\n",
        "import torch.nn.functional as F\n",
        "from torchtext.vocab import  vocab\n",
        "import torchmetrics\n",
        "from torchmetrics.classification import Accuracy, F1Score\n",
        "import numpy as np\n",
        "import pandas as pd\n",
        "from collections import Counter\n",
        "from pathlib import Path\n",
        "import sys\n",
        "from sklearn.model_selection import train_test_split\n",
        "from types import SimpleNamespace\n",
        "from functools import partial\n",
        "from sklearn.metrics import accuracy_score, f1_score\n",
        "from torchmetrics.classification import  MultilabelHammingDistance\n",
        "import torch.optim as optim\n",
        "from  torchmetrics.functional.classification import multilabel_f1_score, multilabel_hamming_distance\n",
        "import torch.nn.init as init\n",
        "from pathlib import Path\n",
        "from sklearn.preprocessing import MultiLabelBinarizer"
      ]
    },
    {
      "cell_type": "markdown",
      "metadata": {
        "id": "J2nAIo5uNxEr"
      },
      "source": [
        "# <Font color = 'pickle'>**Specify Project Folders**"
      ]
    },
    {
      "cell_type": "code",
      "source": [
        "model_folder = Path('/content/drive/MyDrive/models/nlp_spring_2023/hw6')\n",
        "model_folder.mkdir(exist_ok=True)"
      ],
      "metadata": {
        "id": "HCF50tpbPovF"
      },
      "execution_count": null,
      "outputs": []
    },
    {
      "cell_type": "code",
      "execution_count": null,
      "metadata": {
        "execution": {
          "iopub.execute_input": "2022-10-02T10:36:21.717528Z",
          "iopub.status.busy": "2022-10-02T10:36:21.716436Z",
          "iopub.status.idle": "2022-10-02T10:36:21.744773Z",
          "shell.execute_reply": "2022-10-02T10:36:21.744138Z",
          "shell.execute_reply.started": "2022-10-02T10:36:21.717511Z"
        },
        "id": "zd6c5IGa_iUl",
        "tags": []
      },
      "outputs": [],
      "source": [
        "base_folder = Path(basepath)\n",
        "hw6_folder = base_folder/'Applied Natural Language Processing/Assignments/HW6'"
      ]
    },
    {
      "cell_type": "code",
      "execution_count": null,
      "metadata": {
        "colab": {
          "base_uri": "https://localhost:8080/"
        },
        "execution": {
          "iopub.execute_input": "2022-10-02T10:36:24.115920Z",
          "iopub.status.busy": "2022-10-02T10:36:24.115693Z",
          "iopub.status.idle": "2022-10-02T10:36:24.140715Z",
          "shell.execute_reply": "2022-10-02T10:36:24.140380Z",
          "shell.execute_reply.started": "2022-10-02T10:36:24.115905Z"
        },
        "id": "m8C6e11FOiEX",
        "outputId": "cf9cc9f2-0133-4e0c-bb51-f628c16b0fa3"
      },
      "outputs": [
        {
          "output_type": "execute_result",
          "data": {
            "text/plain": [
              "['/content',\n",
              " '/env/python',\n",
              " '/usr/lib/python39.zip',\n",
              " '/usr/lib/python3.9',\n",
              " '/usr/lib/python3.9/lib-dynload',\n",
              " '',\n",
              " '/usr/local/lib/python3.9/dist-packages',\n",
              " '/usr/lib/python3/dist-packages',\n",
              " '/usr/local/lib/python3.9/dist-packages/IPython/extensions',\n",
              " '/root/.ipython',\n",
              " '/content/drive/MyDrive/Applied Natural Language Processing/Assignments/HW6']"
            ]
          },
          "metadata": {},
          "execution_count": 7
        }
      ],
      "source": [
        "sys.path"
      ]
    },
    {
      "cell_type": "code",
      "execution_count": null,
      "metadata": {
        "execution": {
          "iopub.execute_input": "2022-10-02T10:36:34.241275Z",
          "iopub.status.busy": "2022-10-02T10:36:34.241066Z",
          "iopub.status.idle": "2022-10-02T10:36:34.465547Z",
          "shell.execute_reply": "2022-10-02T10:36:34.464959Z",
          "shell.execute_reply.started": "2022-10-02T10:36:34.241261Z"
        },
        "id": "cw-B4qKHOjUC"
      },
      "outputs": [],
      "source": [
        "from Trainer_v2 import Trainer"
      ]
    },
    {
      "cell_type": "markdown",
      "metadata": {
        "id": "17xctemopjdA"
      },
      "source": [
        "# <Font color = 'pickle'>**SubSet Stack Exchange**</font>\n",
        "\n",
        "This data is a subset of data from  Kaggle Competition (https://www.kaggle.com/c/facebook-recruiting-iii-keyword-extraction/data). The given dataset actually contains the different questions asked in the StackExchange website for various technical domains. We have fetched only those question that contains the top 10 individual tags. Each question can have only one tag. This means that this is a multi-class classification problem. These are the ten categories for tags in the data.\n",
        "\n",
        "| Tag    | Language|\n",
        "| -------| --------|\n",
        "| 0      | c#      |\n",
        "| 1      | jave    |\n",
        "| 2      | php     |\n",
        "| 3      | javascript|\n",
        "| 4      | android |\n",
        "| 5      | jquery  |\n",
        "| 6      | c++     |\n",
        "| 7      | python  |\n",
        "| 8      | asp.net |"
      ]
    },
    {
      "cell_type": "markdown",
      "metadata": {
        "id": "f38Z0H-CLk5A"
      },
      "source": [
        "## <Font color = 'pickle'>**Load the Dataset**"
      ]
    },
    {
      "cell_type": "code",
      "source": [
        "import joblib\n",
        "\n",
        "df_hw = joblib.load('/content/drive/MyDrive/Applied Natural Language Processing/Assignments/HW6/df_multilabel_hw_cleaned.joblib')"
      ],
      "metadata": {
        "id": "KUutFsgToj2h"
      },
      "execution_count": null,
      "outputs": []
    },
    {
      "cell_type": "code",
      "execution_count": null,
      "metadata": {
        "colab": {
          "base_uri": "https://localhost:8080/",
          "height": 206
        },
        "execution": {
          "iopub.execute_input": "2022-04-01T11:52:32.446512Z",
          "iopub.status.busy": "2022-04-01T11:52:32.446208Z",
          "iopub.status.idle": "2022-04-01T11:52:32.454843Z",
          "shell.execute_reply": "2022-04-01T11:52:32.454535Z",
          "shell.execute_reply.started": "2022-04-01T11:52:32.446486Z"
        },
        "id": "LFDzkclwF5yy",
        "outputId": "72967dab-7ce7-4daa-c13a-36abc55be440",
        "tags": []
      },
      "outputs": [
        {
          "output_type": "execute_result",
          "data": {
            "text/plain": [
              "                                        cleaned_text               Tags  \\\n",
              "0  asp query stre dropdown webpage follow control...         c# asp.net   \n",
              "1  run javascript code server java code want run ...    java javascript   \n",
              "2  linq sql throw exception row find change hi li...         c# asp.net   \n",
              "3  run python script php server run nginx web ser...         php python   \n",
              "4  advice write function m try write function res...  javascript jquery   \n",
              "\n",
              "  Tag_Number  \n",
              "0     [0, 9]  \n",
              "1     [1, 3]  \n",
              "2     [0, 9]  \n",
              "3     [2, 7]  \n",
              "4     [3, 5]  "
            ],
            "text/html": [
              "\n",
              "  <div id=\"df-fbcd94a0-3c53-460e-b4af-df47493a6953\">\n",
              "    <div class=\"colab-df-container\">\n",
              "      <div>\n",
              "<style scoped>\n",
              "    .dataframe tbody tr th:only-of-type {\n",
              "        vertical-align: middle;\n",
              "    }\n",
              "\n",
              "    .dataframe tbody tr th {\n",
              "        vertical-align: top;\n",
              "    }\n",
              "\n",
              "    .dataframe thead th {\n",
              "        text-align: right;\n",
              "    }\n",
              "</style>\n",
              "<table border=\"1\" class=\"dataframe\">\n",
              "  <thead>\n",
              "    <tr style=\"text-align: right;\">\n",
              "      <th></th>\n",
              "      <th>cleaned_text</th>\n",
              "      <th>Tags</th>\n",
              "      <th>Tag_Number</th>\n",
              "    </tr>\n",
              "  </thead>\n",
              "  <tbody>\n",
              "    <tr>\n",
              "      <th>0</th>\n",
              "      <td>asp query stre dropdown webpage follow control...</td>\n",
              "      <td>c# asp.net</td>\n",
              "      <td>[0, 9]</td>\n",
              "    </tr>\n",
              "    <tr>\n",
              "      <th>1</th>\n",
              "      <td>run javascript code server java code want run ...</td>\n",
              "      <td>java javascript</td>\n",
              "      <td>[1, 3]</td>\n",
              "    </tr>\n",
              "    <tr>\n",
              "      <th>2</th>\n",
              "      <td>linq sql throw exception row find change hi li...</td>\n",
              "      <td>c# asp.net</td>\n",
              "      <td>[0, 9]</td>\n",
              "    </tr>\n",
              "    <tr>\n",
              "      <th>3</th>\n",
              "      <td>run python script php server run nginx web ser...</td>\n",
              "      <td>php python</td>\n",
              "      <td>[2, 7]</td>\n",
              "    </tr>\n",
              "    <tr>\n",
              "      <th>4</th>\n",
              "      <td>advice write function m try write function res...</td>\n",
              "      <td>javascript jquery</td>\n",
              "      <td>[3, 5]</td>\n",
              "    </tr>\n",
              "  </tbody>\n",
              "</table>\n",
              "</div>\n",
              "      <button class=\"colab-df-convert\" onclick=\"convertToInteractive('df-fbcd94a0-3c53-460e-b4af-df47493a6953')\"\n",
              "              title=\"Convert this dataframe to an interactive table.\"\n",
              "              style=\"display:none;\">\n",
              "        \n",
              "  <svg xmlns=\"http://www.w3.org/2000/svg\" height=\"24px\"viewBox=\"0 0 24 24\"\n",
              "       width=\"24px\">\n",
              "    <path d=\"M0 0h24v24H0V0z\" fill=\"none\"/>\n",
              "    <path d=\"M18.56 5.44l.94 2.06.94-2.06 2.06-.94-2.06-.94-.94-2.06-.94 2.06-2.06.94zm-11 1L8.5 8.5l.94-2.06 2.06-.94-2.06-.94L8.5 2.5l-.94 2.06-2.06.94zm10 10l.94 2.06.94-2.06 2.06-.94-2.06-.94-.94-2.06-.94 2.06-2.06.94z\"/><path d=\"M17.41 7.96l-1.37-1.37c-.4-.4-.92-.59-1.43-.59-.52 0-1.04.2-1.43.59L10.3 9.45l-7.72 7.72c-.78.78-.78 2.05 0 2.83L4 21.41c.39.39.9.59 1.41.59.51 0 1.02-.2 1.41-.59l7.78-7.78 2.81-2.81c.8-.78.8-2.07 0-2.86zM5.41 20L4 18.59l7.72-7.72 1.47 1.35L5.41 20z\"/>\n",
              "  </svg>\n",
              "      </button>\n",
              "      \n",
              "  <style>\n",
              "    .colab-df-container {\n",
              "      display:flex;\n",
              "      flex-wrap:wrap;\n",
              "      gap: 12px;\n",
              "    }\n",
              "\n",
              "    .colab-df-convert {\n",
              "      background-color: #E8F0FE;\n",
              "      border: none;\n",
              "      border-radius: 50%;\n",
              "      cursor: pointer;\n",
              "      display: none;\n",
              "      fill: #1967D2;\n",
              "      height: 32px;\n",
              "      padding: 0 0 0 0;\n",
              "      width: 32px;\n",
              "    }\n",
              "\n",
              "    .colab-df-convert:hover {\n",
              "      background-color: #E2EBFA;\n",
              "      box-shadow: 0px 1px 2px rgba(60, 64, 67, 0.3), 0px 1px 3px 1px rgba(60, 64, 67, 0.15);\n",
              "      fill: #174EA6;\n",
              "    }\n",
              "\n",
              "    [theme=dark] .colab-df-convert {\n",
              "      background-color: #3B4455;\n",
              "      fill: #D2E3FC;\n",
              "    }\n",
              "\n",
              "    [theme=dark] .colab-df-convert:hover {\n",
              "      background-color: #434B5C;\n",
              "      box-shadow: 0px 1px 3px 1px rgba(0, 0, 0, 0.15);\n",
              "      filter: drop-shadow(0px 1px 2px rgba(0, 0, 0, 0.3));\n",
              "      fill: #FFFFFF;\n",
              "    }\n",
              "  </style>\n",
              "\n",
              "      <script>\n",
              "        const buttonEl =\n",
              "          document.querySelector('#df-fbcd94a0-3c53-460e-b4af-df47493a6953 button.colab-df-convert');\n",
              "        buttonEl.style.display =\n",
              "          google.colab.kernel.accessAllowed ? 'block' : 'none';\n",
              "\n",
              "        async function convertToInteractive(key) {\n",
              "          const element = document.querySelector('#df-fbcd94a0-3c53-460e-b4af-df47493a6953');\n",
              "          const dataTable =\n",
              "            await google.colab.kernel.invokeFunction('convertToInteractive',\n",
              "                                                     [key], {});\n",
              "          if (!dataTable) return;\n",
              "\n",
              "          const docLinkHtml = 'Like what you see? Visit the ' +\n",
              "            '<a target=\"_blank\" href=https://colab.research.google.com/notebooks/data_table.ipynb>data table notebook</a>'\n",
              "            + ' to learn more about interactive tables.';\n",
              "          element.innerHTML = '';\n",
              "          dataTable['output_type'] = 'display_data';\n",
              "          await google.colab.output.renderOutput(dataTable, element);\n",
              "          const docLink = document.createElement('div');\n",
              "          docLink.innerHTML = docLinkHtml;\n",
              "          element.appendChild(docLink);\n",
              "        }\n",
              "      </script>\n",
              "    </div>\n",
              "  </div>\n",
              "  "
            ]
          },
          "metadata": {},
          "execution_count": 10
        }
      ],
      "source": [
        "df_hw.head()"
      ]
    },
    {
      "cell_type": "code",
      "source": [
        "import ast\n",
        "\n",
        "df_hw['Tag_Number'] = df_hw['Tag_Number'].apply(lambda x: ast.literal_eval(x))\n",
        "df_hw['Tag_Number'] = df_hw['Tag_Number'].apply(lambda x: [int(i) for i in x])\n"
      ],
      "metadata": {
        "id": "23x7-pOCnTqp"
      },
      "execution_count": null,
      "outputs": []
    },
    {
      "cell_type": "code",
      "source": [
        "mlb = MultiLabelBinarizer()\n",
        "df_encoded = df_hw.join(pd.DataFrame(mlb.fit_transform(df_hw.pop('Tag_Number')),\n",
        "                          columns=mlb.classes_,\n",
        "                          index=df_hw.index))"
      ],
      "metadata": {
        "id": "DaqAKS4yxj7i"
      },
      "execution_count": null,
      "outputs": []
    },
    {
      "cell_type": "code",
      "source": [
        "df_encoded"
      ],
      "metadata": {
        "colab": {
          "base_uri": "https://localhost:8080/",
          "height": 424
        },
        "id": "NUibRmKLxkE4",
        "outputId": "d0419123-5499-4429-f368-03c7157b27a1"
      },
      "execution_count": null,
      "outputs": [
        {
          "output_type": "execute_result",
          "data": {
            "text/plain": [
              "                                            cleaned_text                Tags  \\\n",
              "0      asp query stre dropdown webpage follow control...          c# asp.net   \n",
              "1      run javascript code server java code want run ...     java javascript   \n",
              "2      linq sql throw exception row find change hi li...          c# asp.net   \n",
              "3      run python script php server run nginx web ser...          php python   \n",
              "4      advice write function m try write function res...   javascript jquery   \n",
              "...                                                  ...                 ...   \n",
              "47422  take value edittext put decimal point all- wor...        java android   \n",
              "47423  listen phone state application nee liste phone...        java android   \n",
              "47424  android ui thread thread task want access main...        java android   \n",
              "47425  dynamic table row creation html javascript htm...  asp.net javascript   \n",
              "47426  image preloader work ie follow code preload im...   javascript jquery   \n",
              "\n",
              "       0  1  2  3  4  5  6  7  8  9  \n",
              "0      1  0  0  0  0  0  0  0  0  1  \n",
              "1      0  1  0  1  0  0  0  0  0  0  \n",
              "2      1  0  0  0  0  0  0  0  0  1  \n",
              "3      0  0  1  0  0  0  0  1  0  0  \n",
              "4      0  0  0  1  0  1  0  0  0  0  \n",
              "...   .. .. .. .. .. .. .. .. .. ..  \n",
              "47422  0  1  0  0  1  0  0  0  0  0  \n",
              "47423  0  1  0  0  1  0  0  0  0  0  \n",
              "47424  0  1  0  0  1  0  0  0  0  0  \n",
              "47425  0  0  0  1  0  0  0  0  0  1  \n",
              "47426  0  0  0  1  0  1  0  0  0  0  \n",
              "\n",
              "[47427 rows x 12 columns]"
            ],
            "text/html": [
              "\n",
              "  <div id=\"df-097389c1-1765-45ac-834a-e4f2fe52aacf\">\n",
              "    <div class=\"colab-df-container\">\n",
              "      <div>\n",
              "<style scoped>\n",
              "    .dataframe tbody tr th:only-of-type {\n",
              "        vertical-align: middle;\n",
              "    }\n",
              "\n",
              "    .dataframe tbody tr th {\n",
              "        vertical-align: top;\n",
              "    }\n",
              "\n",
              "    .dataframe thead th {\n",
              "        text-align: right;\n",
              "    }\n",
              "</style>\n",
              "<table border=\"1\" class=\"dataframe\">\n",
              "  <thead>\n",
              "    <tr style=\"text-align: right;\">\n",
              "      <th></th>\n",
              "      <th>cleaned_text</th>\n",
              "      <th>Tags</th>\n",
              "      <th>0</th>\n",
              "      <th>1</th>\n",
              "      <th>2</th>\n",
              "      <th>3</th>\n",
              "      <th>4</th>\n",
              "      <th>5</th>\n",
              "      <th>6</th>\n",
              "      <th>7</th>\n",
              "      <th>8</th>\n",
              "      <th>9</th>\n",
              "    </tr>\n",
              "  </thead>\n",
              "  <tbody>\n",
              "    <tr>\n",
              "      <th>0</th>\n",
              "      <td>asp query stre dropdown webpage follow control...</td>\n",
              "      <td>c# asp.net</td>\n",
              "      <td>1</td>\n",
              "      <td>0</td>\n",
              "      <td>0</td>\n",
              "      <td>0</td>\n",
              "      <td>0</td>\n",
              "      <td>0</td>\n",
              "      <td>0</td>\n",
              "      <td>0</td>\n",
              "      <td>0</td>\n",
              "      <td>1</td>\n",
              "    </tr>\n",
              "    <tr>\n",
              "      <th>1</th>\n",
              "      <td>run javascript code server java code want run ...</td>\n",
              "      <td>java javascript</td>\n",
              "      <td>0</td>\n",
              "      <td>1</td>\n",
              "      <td>0</td>\n",
              "      <td>1</td>\n",
              "      <td>0</td>\n",
              "      <td>0</td>\n",
              "      <td>0</td>\n",
              "      <td>0</td>\n",
              "      <td>0</td>\n",
              "      <td>0</td>\n",
              "    </tr>\n",
              "    <tr>\n",
              "      <th>2</th>\n",
              "      <td>linq sql throw exception row find change hi li...</td>\n",
              "      <td>c# asp.net</td>\n",
              "      <td>1</td>\n",
              "      <td>0</td>\n",
              "      <td>0</td>\n",
              "      <td>0</td>\n",
              "      <td>0</td>\n",
              "      <td>0</td>\n",
              "      <td>0</td>\n",
              "      <td>0</td>\n",
              "      <td>0</td>\n",
              "      <td>1</td>\n",
              "    </tr>\n",
              "    <tr>\n",
              "      <th>3</th>\n",
              "      <td>run python script php server run nginx web ser...</td>\n",
              "      <td>php python</td>\n",
              "      <td>0</td>\n",
              "      <td>0</td>\n",
              "      <td>1</td>\n",
              "      <td>0</td>\n",
              "      <td>0</td>\n",
              "      <td>0</td>\n",
              "      <td>0</td>\n",
              "      <td>1</td>\n",
              "      <td>0</td>\n",
              "      <td>0</td>\n",
              "    </tr>\n",
              "    <tr>\n",
              "      <th>4</th>\n",
              "      <td>advice write function m try write function res...</td>\n",
              "      <td>javascript jquery</td>\n",
              "      <td>0</td>\n",
              "      <td>0</td>\n",
              "      <td>0</td>\n",
              "      <td>1</td>\n",
              "      <td>0</td>\n",
              "      <td>1</td>\n",
              "      <td>0</td>\n",
              "      <td>0</td>\n",
              "      <td>0</td>\n",
              "      <td>0</td>\n",
              "    </tr>\n",
              "    <tr>\n",
              "      <th>...</th>\n",
              "      <td>...</td>\n",
              "      <td>...</td>\n",
              "      <td>...</td>\n",
              "      <td>...</td>\n",
              "      <td>...</td>\n",
              "      <td>...</td>\n",
              "      <td>...</td>\n",
              "      <td>...</td>\n",
              "      <td>...</td>\n",
              "      <td>...</td>\n",
              "      <td>...</td>\n",
              "      <td>...</td>\n",
              "    </tr>\n",
              "    <tr>\n",
              "      <th>47422</th>\n",
              "      <td>take value edittext put decimal point all- wor...</td>\n",
              "      <td>java android</td>\n",
              "      <td>0</td>\n",
              "      <td>1</td>\n",
              "      <td>0</td>\n",
              "      <td>0</td>\n",
              "      <td>1</td>\n",
              "      <td>0</td>\n",
              "      <td>0</td>\n",
              "      <td>0</td>\n",
              "      <td>0</td>\n",
              "      <td>0</td>\n",
              "    </tr>\n",
              "    <tr>\n",
              "      <th>47423</th>\n",
              "      <td>listen phone state application nee liste phone...</td>\n",
              "      <td>java android</td>\n",
              "      <td>0</td>\n",
              "      <td>1</td>\n",
              "      <td>0</td>\n",
              "      <td>0</td>\n",
              "      <td>1</td>\n",
              "      <td>0</td>\n",
              "      <td>0</td>\n",
              "      <td>0</td>\n",
              "      <td>0</td>\n",
              "      <td>0</td>\n",
              "    </tr>\n",
              "    <tr>\n",
              "      <th>47424</th>\n",
              "      <td>android ui thread thread task want access main...</td>\n",
              "      <td>java android</td>\n",
              "      <td>0</td>\n",
              "      <td>1</td>\n",
              "      <td>0</td>\n",
              "      <td>0</td>\n",
              "      <td>1</td>\n",
              "      <td>0</td>\n",
              "      <td>0</td>\n",
              "      <td>0</td>\n",
              "      <td>0</td>\n",
              "      <td>0</td>\n",
              "    </tr>\n",
              "    <tr>\n",
              "      <th>47425</th>\n",
              "      <td>dynamic table row creation html javascript htm...</td>\n",
              "      <td>asp.net javascript</td>\n",
              "      <td>0</td>\n",
              "      <td>0</td>\n",
              "      <td>0</td>\n",
              "      <td>1</td>\n",
              "      <td>0</td>\n",
              "      <td>0</td>\n",
              "      <td>0</td>\n",
              "      <td>0</td>\n",
              "      <td>0</td>\n",
              "      <td>1</td>\n",
              "    </tr>\n",
              "    <tr>\n",
              "      <th>47426</th>\n",
              "      <td>image preloader work ie follow code preload im...</td>\n",
              "      <td>javascript jquery</td>\n",
              "      <td>0</td>\n",
              "      <td>0</td>\n",
              "      <td>0</td>\n",
              "      <td>1</td>\n",
              "      <td>0</td>\n",
              "      <td>1</td>\n",
              "      <td>0</td>\n",
              "      <td>0</td>\n",
              "      <td>0</td>\n",
              "      <td>0</td>\n",
              "    </tr>\n",
              "  </tbody>\n",
              "</table>\n",
              "<p>47427 rows × 12 columns</p>\n",
              "</div>\n",
              "      <button class=\"colab-df-convert\" onclick=\"convertToInteractive('df-097389c1-1765-45ac-834a-e4f2fe52aacf')\"\n",
              "              title=\"Convert this dataframe to an interactive table.\"\n",
              "              style=\"display:none;\">\n",
              "        \n",
              "  <svg xmlns=\"http://www.w3.org/2000/svg\" height=\"24px\"viewBox=\"0 0 24 24\"\n",
              "       width=\"24px\">\n",
              "    <path d=\"M0 0h24v24H0V0z\" fill=\"none\"/>\n",
              "    <path d=\"M18.56 5.44l.94 2.06.94-2.06 2.06-.94-2.06-.94-.94-2.06-.94 2.06-2.06.94zm-11 1L8.5 8.5l.94-2.06 2.06-.94-2.06-.94L8.5 2.5l-.94 2.06-2.06.94zm10 10l.94 2.06.94-2.06 2.06-.94-2.06-.94-.94-2.06-.94 2.06-2.06.94z\"/><path d=\"M17.41 7.96l-1.37-1.37c-.4-.4-.92-.59-1.43-.59-.52 0-1.04.2-1.43.59L10.3 9.45l-7.72 7.72c-.78.78-.78 2.05 0 2.83L4 21.41c.39.39.9.59 1.41.59.51 0 1.02-.2 1.41-.59l7.78-7.78 2.81-2.81c.8-.78.8-2.07 0-2.86zM5.41 20L4 18.59l7.72-7.72 1.47 1.35L5.41 20z\"/>\n",
              "  </svg>\n",
              "      </button>\n",
              "      \n",
              "  <style>\n",
              "    .colab-df-container {\n",
              "      display:flex;\n",
              "      flex-wrap:wrap;\n",
              "      gap: 12px;\n",
              "    }\n",
              "\n",
              "    .colab-df-convert {\n",
              "      background-color: #E8F0FE;\n",
              "      border: none;\n",
              "      border-radius: 50%;\n",
              "      cursor: pointer;\n",
              "      display: none;\n",
              "      fill: #1967D2;\n",
              "      height: 32px;\n",
              "      padding: 0 0 0 0;\n",
              "      width: 32px;\n",
              "    }\n",
              "\n",
              "    .colab-df-convert:hover {\n",
              "      background-color: #E2EBFA;\n",
              "      box-shadow: 0px 1px 2px rgba(60, 64, 67, 0.3), 0px 1px 3px 1px rgba(60, 64, 67, 0.15);\n",
              "      fill: #174EA6;\n",
              "    }\n",
              "\n",
              "    [theme=dark] .colab-df-convert {\n",
              "      background-color: #3B4455;\n",
              "      fill: #D2E3FC;\n",
              "    }\n",
              "\n",
              "    [theme=dark] .colab-df-convert:hover {\n",
              "      background-color: #434B5C;\n",
              "      box-shadow: 0px 1px 3px 1px rgba(0, 0, 0, 0.15);\n",
              "      filter: drop-shadow(0px 1px 2px rgba(0, 0, 0, 0.3));\n",
              "      fill: #FFFFFF;\n",
              "    }\n",
              "  </style>\n",
              "\n",
              "      <script>\n",
              "        const buttonEl =\n",
              "          document.querySelector('#df-097389c1-1765-45ac-834a-e4f2fe52aacf button.colab-df-convert');\n",
              "        buttonEl.style.display =\n",
              "          google.colab.kernel.accessAllowed ? 'block' : 'none';\n",
              "\n",
              "        async function convertToInteractive(key) {\n",
              "          const element = document.querySelector('#df-097389c1-1765-45ac-834a-e4f2fe52aacf');\n",
              "          const dataTable =\n",
              "            await google.colab.kernel.invokeFunction('convertToInteractive',\n",
              "                                                     [key], {});\n",
              "          if (!dataTable) return;\n",
              "\n",
              "          const docLinkHtml = 'Like what you see? Visit the ' +\n",
              "            '<a target=\"_blank\" href=https://colab.research.google.com/notebooks/data_table.ipynb>data table notebook</a>'\n",
              "            + ' to learn more about interactive tables.';\n",
              "          element.innerHTML = '';\n",
              "          dataTable['output_type'] = 'display_data';\n",
              "          await google.colab.output.renderOutput(dataTable, element);\n",
              "          const docLink = document.createElement('div');\n",
              "          docLink.innerHTML = docLinkHtml;\n",
              "          element.appendChild(docLink);\n",
              "        }\n",
              "      </script>\n",
              "    </div>\n",
              "  </div>\n",
              "  "
            ]
          },
          "metadata": {},
          "execution_count": 13
        }
      ]
    },
    {
      "cell_type": "code",
      "execution_count": null,
      "metadata": {
        "execution": {
          "iopub.execute_input": "2022-04-01T11:52:46.717554Z",
          "iopub.status.busy": "2022-04-01T11:52:46.717424Z",
          "iopub.status.idle": "2022-04-01T11:52:46.721499Z",
          "shell.execute_reply": "2022-04-01T11:52:46.721079Z",
          "shell.execute_reply.started": "2022-04-01T11:52:46.717540Z"
        },
        "id": "xpTOUDLjoXq_",
        "tags": []
      },
      "outputs": [],
      "source": [
        "X_final = df_encoded['cleaned_text'].values"
      ]
    },
    {
      "cell_type": "code",
      "execution_count": null,
      "metadata": {
        "colab": {
          "base_uri": "https://localhost:8080/"
        },
        "execution": {
          "iopub.execute_input": "2022-04-01T11:52:50.317680Z",
          "iopub.status.busy": "2022-04-01T11:52:50.317531Z",
          "iopub.status.idle": "2022-04-01T11:52:50.320633Z",
          "shell.execute_reply": "2022-04-01T11:52:50.320282Z",
          "shell.execute_reply.started": "2022-04-01T11:52:50.317666Z"
        },
        "id": "5REVwiN4ofv3",
        "outputId": "a887154a-7155-4190-ced2-f23a9063244e",
        "tags": []
      },
      "outputs": [
        {
          "output_type": "stream",
          "name": "stdout",
          "text": [
            "<class 'numpy.ndarray'> (47427,)\n"
          ]
        }
      ],
      "source": [
        "print(type(X_final), X_final.shape)"
      ]
    },
    {
      "cell_type": "code",
      "execution_count": null,
      "metadata": {
        "execution": {
          "iopub.execute_input": "2022-04-01T11:52:55.223776Z",
          "iopub.status.busy": "2022-04-01T11:52:55.223370Z",
          "iopub.status.idle": "2022-04-01T11:52:55.226170Z",
          "shell.execute_reply": "2022-04-01T11:52:55.225798Z",
          "shell.execute_reply.started": "2022-04-01T11:52:55.223760Z"
        },
        "id": "JyP57gavosXM",
        "tags": []
      },
      "outputs": [],
      "source": [
        "y_final = df_encoded.iloc[:, 2:].values"
      ]
    },
    {
      "cell_type": "code",
      "source": [
        "y_final"
      ],
      "metadata": {
        "colab": {
          "base_uri": "https://localhost:8080/"
        },
        "id": "dLUI4p9R1N21",
        "outputId": "77d653ec-6773-46c4-c507-d78d2cbc2149"
      },
      "execution_count": null,
      "outputs": [
        {
          "output_type": "execute_result",
          "data": {
            "text/plain": [
              "array([[1, 0, 0, ..., 0, 0, 1],\n",
              "       [0, 1, 0, ..., 0, 0, 0],\n",
              "       [1, 0, 0, ..., 0, 0, 1],\n",
              "       ...,\n",
              "       [0, 1, 0, ..., 0, 0, 0],\n",
              "       [0, 0, 0, ..., 0, 0, 1],\n",
              "       [0, 0, 0, ..., 0, 0, 0]])"
            ]
          },
          "metadata": {},
          "execution_count": 17
        }
      ]
    },
    {
      "cell_type": "markdown",
      "metadata": {
        "id": "bTrbf15aROgj"
      },
      "source": [
        "## <Font color = 'pickle'>**Create Train/Test/Valid Split**\n"
      ]
    },
    {
      "cell_type": "code",
      "execution_count": null,
      "metadata": {
        "execution": {
          "iopub.execute_input": "2022-10-02T10:36:54.579916Z",
          "iopub.status.busy": "2022-10-02T10:36:54.579740Z",
          "iopub.status.idle": "2022-10-02T10:36:54.605722Z",
          "shell.execute_reply": "2022-10-02T10:36:54.605282Z",
          "shell.execute_reply.started": "2022-10-02T10:36:54.579903Z"
        },
        "id": "a8sZ605P7mON"
      },
      "outputs": [],
      "source": [
        "X_train, x_valid_test, y_train, y_valid_test = train_test_split(X_final, y_final, test_size = 0.4)"
      ]
    },
    {
      "cell_type": "code",
      "execution_count": null,
      "metadata": {
        "execution": {
          "iopub.execute_input": "2022-10-02T10:36:55.365747Z",
          "iopub.status.busy": "2022-10-02T10:36:55.365469Z",
          "iopub.status.idle": "2022-10-02T10:36:55.390447Z",
          "shell.execute_reply": "2022-10-02T10:36:55.390048Z",
          "shell.execute_reply.started": "2022-10-02T10:36:55.365732Z"
        },
        "id": "AMapwMp88dBO"
      },
      "outputs": [],
      "source": [
        "X_valid, X_test, y_valid, y_test = train_test_split(x_valid_test, y_valid_test, test_size = 0.5)"
      ]
    },
    {
      "cell_type": "code",
      "execution_count": null,
      "metadata": {
        "colab": {
          "base_uri": "https://localhost:8080/"
        },
        "id": "WoNyyQYIMjWj",
        "outputId": "8531979a-17c2-49f1-e83d-fc70d2940f04"
      },
      "outputs": [
        {
          "output_type": "stream",
          "name": "stdout",
          "text": [
            "<class 'numpy.ndarray'>\n",
            "<class 'numpy.ndarray'>\n"
          ]
        }
      ],
      "source": [
        "print(type(X_train))\n",
        "print(type(y_train))"
      ]
    },
    {
      "cell_type": "markdown",
      "metadata": {
        "id": "FTIKaTsTgvYu"
      },
      "source": [
        "## <Font color = 'pickle'>**Custom Dataset Class**"
      ]
    },
    {
      "cell_type": "code",
      "execution_count": null,
      "metadata": {
        "id": "kul5dyeM2d4k"
      },
      "outputs": [],
      "source": [
        "class CustomDataset(torch.utils.data.Dataset):\n",
        "    \"\"\"IMDB dataset.\"\"\"\n",
        "\n",
        "    def __init__(self, X, y):\n",
        "        self.X = np.array(X)\n",
        "        self.y = y\n",
        "\n",
        "    def __len__(self):\n",
        "        return len(self.X)\n",
        "\n",
        "    def __getitem__(self, idx):\n",
        "        text = self.X[idx]\n",
        "        labels = self.y[idx]\n",
        "        sample = (labels, text)\n",
        "        \n",
        "        return sample"
      ]
    },
    {
      "cell_type": "code",
      "execution_count": null,
      "metadata": {
        "execution": {
          "iopub.execute_input": "2022-10-02T10:48:16.574587Z",
          "iopub.status.busy": "2022-10-02T10:48:16.573804Z",
          "iopub.status.idle": "2022-10-02T10:48:16.598997Z",
          "shell.execute_reply": "2022-10-02T10:48:16.598555Z",
          "shell.execute_reply.started": "2022-10-02T10:48:16.574571Z"
        },
        "id": "R1mKoKSlAxAq"
      },
      "outputs": [],
      "source": [
        "trainset = CustomDataset(X_train,y_train)\n",
        "validset = CustomDataset(X_valid,y_valid)\n",
        "testset = CustomDataset(X_test,y_test)"
      ]
    },
    {
      "cell_type": "markdown",
      "metadata": {
        "id": "XoEVe7eGtY7U"
      },
      "source": [
        "## <Font color = 'pickle'>**Create Vocab**"
      ]
    },
    {
      "cell_type": "code",
      "execution_count": null,
      "metadata": {
        "id": "LRLHO-M1to6q"
      },
      "outputs": [],
      "source": [
        "def create_vocab(dataset, min_freq=1):\n",
        "  counter = Counter()\n",
        "  for (l_, text) in dataset:\n",
        "    counter.update(str(text).split())\n",
        "  my_vocab = vocab(counter, min_freq=min_freq)\n",
        "  my_vocab.insert_token('<unk>', 0)\n",
        "  my_vocab.set_default_index(0)\n",
        "  return my_vocab"
      ]
    },
    {
      "cell_type": "markdown",
      "metadata": {
        "id": "TY5oKhQlJPQL"
      },
      "source": [
        "vocab should always be created based on trainset"
      ]
    },
    {
      "cell_type": "code",
      "execution_count": null,
      "metadata": {
        "id": "wNUi_aNctkAo"
      },
      "outputs": [],
      "source": [
        "stack_vocab = create_vocab(trainset, min_freq = 5)"
      ]
    },
    {
      "cell_type": "markdown",
      "metadata": {
        "id": "ojvSMWR5u-LU"
      },
      "source": [
        "## <Font color = 'pickle'>**Collate_fn for Data Loaders**"
      ]
    },
    {
      "cell_type": "code",
      "execution_count": null,
      "metadata": {
        "id": "cdBKJlVmvB-9"
      },
      "outputs": [],
      "source": [
        "# Creating a lambda function objects that will be used to get the indices of words from vocab\n",
        "def text_pipeline(x, vocab):\n",
        "    \"\"\"Converts text to a list of indices using a vocabulary dictionary\"\"\"\n",
        "    return [vocab[token] for token in str(x).split()]"
      ]
    },
    {
      "cell_type": "code",
      "execution_count": null,
      "metadata": {
        "id": "cL1TZVthvIT2"
      },
      "outputs": [],
      "source": [
        "def collate_batch(batch, vocab):\n",
        "    labels, texts = zip(*batch)\n",
        "    labels = torch.tensor(labels, dtype=torch.int64)\n",
        "    list_of_list_of_indices = [text_pipeline(text, vocab) for text in texts]\n",
        "\n",
        "    offsets = [0] + [len(i) for i in list_of_list_of_indices]\n",
        "    offsets = torch.tensor(offsets[:-1]).cumsum(dim=0)\n",
        "    texts = torch.cat([torch.tensor(i, dtype=torch.int64)\n",
        "                      for i in list_of_list_of_indices])\n",
        "    return (texts, offsets), labels\n"
      ]
    },
    {
      "cell_type": "markdown",
      "metadata": {
        "id": "U5PslDp5R7Ff"
      },
      "source": [
        "## <Font color = 'pickle'>**Data Loaders**"
      ]
    },
    {
      "cell_type": "code",
      "source": [
        "def get_loaders(trainset, validset, batch_size_, collate_fn):\n",
        "\n",
        "    train_loader = torch.utils.data.DataLoader(trainset, batch_size=batch_size_, shuffle=True,\n",
        "                                               collate_fn=collate_fn)\n",
        "    valid_loader = torch.utils.data.DataLoader(validset, batch_size=batch_size_, shuffle=False,\n",
        "                                               collate_fn=collate_fn)\n",
        "    return train_loader, valid_loader\n",
        "\n",
        "\n",
        "def get_test_loaders(testset, batch_size_, collate_fn):\n",
        "\n",
        "    test_loader = torch.utils.data.DataLoader(testset, batch_size=batch_size_,   shuffle=False,\n",
        "                                              collate_fn=collate_fn)\n",
        "    return test_loader\n"
      ],
      "metadata": {
        "id": "fMgwAd2741LA"
      },
      "execution_count": null,
      "outputs": []
    },
    {
      "cell_type": "markdown",
      "metadata": {
        "id": "GLIXu5RaylkZ"
      },
      "source": [
        "## <Font color = 'pickle'>**Model**"
      ]
    },
    {
      "cell_type": "code",
      "source": [
        "from ff_3_layer_sequential_model import MLPCustom"
      ],
      "metadata": {
        "id": "Bzfzvqvh2NOQ"
      },
      "execution_count": null,
      "outputs": []
    },
    {
      "cell_type": "markdown",
      "metadata": {
        "id": "oVk_RctgdPRP"
      },
      "source": [
        "# <Font color = 'pickle'>**Meta Data**"
      ]
    },
    {
      "cell_type": "code",
      "execution_count": null,
      "metadata": {
        "id": "ETIpvbOBsGHB"
      },
      "outputs": [],
      "source": [
        "hyperparameters = SimpleNamespace(\n",
        "    EPOCHS=5,\n",
        "    BATCH_SIZE=128,\n",
        "    LEARNING_RATE=0.001,\n",
        "    WEIGHT_DECAY=0.000,\n",
        "    CLIP_TYPE='value',\n",
        "    CLIP_VALUE=10,\n",
        "    PATIENCE=5,\n",
        "    EMBED_DIM=300,\t\n",
        "    VOCAB_SIZE=len(stack_vocab),\n",
        "    OUTPUT_DIM=10,\n",
        "    HIDDEN_DIM1=200,\n",
        "    HIDDEN_DIM2=100,\n",
        "    NON_LINEARITY=F.relu\n",
        ")"
      ]
    },
    {
      "cell_type": "markdown",
      "metadata": {
        "id": "Z5NTUM6bsGHC"
      },
      "source": [
        "# <Font color = 'pickle'>**Data Preparation**"
      ]
    },
    {
      "cell_type": "code",
      "execution_count": null,
      "metadata": {
        "id": "3kCRNDlu-zbE"
      },
      "outputs": [],
      "source": [
        "train_loader, valid_loader= get_loaders(trainset,validset,hyperparameters.BATCH_SIZE,partial(collate_batch, vocab = stack_vocab))\n",
        "test_loader= get_test_loaders(testset,hyperparameters.BATCH_SIZE,partial(collate_batch, vocab = stack_vocab))"
      ]
    },
    {
      "cell_type": "markdown",
      "metadata": {
        "id": "mkzdnEJNsGHE"
      },
      "source": [
        "# <Font color = 'pickle'>**Trainer Configuration**"
      ]
    },
    {
      "cell_type": "code",
      "execution_count": null,
      "metadata": {
        "id": "8mTih_UisGHF"
      },
      "outputs": [],
      "source": [
        "model = MLPCustom(embed_dim = hyperparameters.EMBED_DIM, vocab_size=hyperparameters.VOCAB_SIZE, hidden_dim1=hyperparameters.HIDDEN_DIM1, \n",
        "                  hidden_dim2=hyperparameters.HIDDEN_DIM2, output_dim=hyperparameters.OUTPUT_DIM, non_linearity=hyperparameters.NON_LINEARITY)\n",
        "\n",
        "init.kaiming_normal_(model.hidden_layer1.weight.data)\n",
        "init.kaiming_normal_(model.hidden_layer2.weight.data)\n",
        "init.kaiming_normal_(model.output_layer.weight.data)\n",
        "\n",
        "# device\n",
        "device = torch.device('cuda:0' if torch.cuda.is_available() else 'cpu')\n",
        "\n",
        "# loss_function\n",
        "# loss_function = nn.MultiLabelSoftMarginLoss()\n",
        "loss_function = nn.BCEWithLogitsLoss()\n",
        "\n",
        "\n",
        "# optimizer\n",
        "optimizer = optim.Adam(model.parameters(), lr=hyperparameters.LEARNING_RATE, weight_decay=hyperparameters.WEIGHT_DECAY)\n"
      ]
    },
    {
      "cell_type": "code",
      "source": [],
      "metadata": {
        "id": "FoYygx7rDmYa"
      },
      "execution_count": null,
      "outputs": []
    },
    {
      "cell_type": "markdown",
      "metadata": {
        "id": "ffeGh2dcukdK"
      },
      "source": [
        "# <Font color = 'pickle'>**Sanity Check**\n",
        "- Check the loss without any training. For Cross entropy the expected value will be log(number of classes)"
      ]
    },
    {
      "cell_type": "code",
      "execution_count": null,
      "metadata": {
        "colab": {
          "base_uri": "https://localhost:8080/"
        },
        "id": "p2Gx7jgbumux",
        "outputId": "b0a8f639-4e81-4d3d-e178-67fbd6a1db74"
      },
      "outputs": [
        {
          "output_type": "stream",
          "name": "stderr",
          "text": [
            "<ipython-input-26-e40c6ed30a8d>:3: UserWarning: Creating a tensor from a list of numpy.ndarrays is extremely slow. Please consider converting the list to a single numpy.ndarray with numpy.array() before converting to a tensor. (Triggered internally at ../torch/csrc/utils/tensor_new.cpp:245.)\n",
            "  labels = torch.tensor(labels, dtype=torch.int64)\n"
          ]
        },
        {
          "output_type": "stream",
          "name": "stdout",
          "text": [
            "Actual loss: 0.6719632148742676\n",
            "Expected Theoretical loss: 2.302585092994046\n"
          ]
        }
      ],
      "source": [
        "for (text, offsets), targets, in train_loader:\n",
        "  \n",
        "  # move inputs and outputs to GPUs\n",
        "  text = text.to(device)\n",
        "  targets = targets.to(device)\n",
        "  targets = targets.float()\n",
        "  offsets = offsets.to(device)\n",
        "  model.to(device)\n",
        "  model.eval()\n",
        "  # Forward pass\n",
        "  output = model((text, offsets))\n",
        "  loss = loss_function(output, targets)\n",
        "  print(f'Actual loss: {loss}')\n",
        "  break\n",
        "\n",
        "print(f'Expected Theoretical loss: {np.log(10)}')"
      ]
    },
    {
      "cell_type": "markdown",
      "metadata": {
        "id": "e0_zWk0Ib74K"
      },
      "source": [
        "# <Font color = 'pickle'>**Training Model**"
      ]
    },
    {
      "cell_type": "markdown",
      "source": [
        "# **MultilabelHammingDistance metric**"
      ],
      "metadata": {
        "id": "9yhqyz3gR5nI"
      }
    },
    {
      "cell_type": "markdown",
      "source": [
        "# MultilabelHammingDistance is a metric from the torchmetrics library that measures the average Hamming distance between the predicted and true labels in a multilabel classification problem. The Hamming distance is simply the number of labels that differ between the predicted and true labels.\n",
        "\n",
        "# In multilabel classification, each sample can have multiple labels, which makes it different from traditional classification problems where each sample can have only one label. In such problems, metrics like accuracy and F1 score do not provide a complete picture of the performance of the model since they assume only one correct label per sample. MultilabelHammingDistance overcomes this problem by taking into account all the labels associated with a sample.\n",
        "\n",
        "# MultilabelHammingDistance is a good metric for multilabel classification problems because it directly measures the number of label differences between the predicted and true labels. This makes it a simple and interpretable metric that can be used to compare different models and select the best one. It is also robust to class imbalance and can handle cases where some labels are more important than others."
      ],
      "metadata": {
        "id": "uZo2XvIGRcUC"
      }
    },
    {
      "cell_type": "code",
      "source": [
        "trainer = Trainer(model, optimizer, loss_function, device)"
      ],
      "metadata": {
        "id": "VzKY73q8Ru9I"
      },
      "execution_count": null,
      "outputs": []
    },
    {
      "cell_type": "code",
      "execution_count": null,
      "metadata": {
        "id": "2CNObYgJsGHK"
      },
      "outputs": [],
      "source": [
        "run_name = 'run1'\n",
        "run_folder = model_folder/run_name\n",
        "run_folder.mkdir(exist_ok=True)\n",
        "\n",
        "# set loaders\n",
        "trainer.set_loaders(train_loader, valid_loader)\n",
        "train_metric = MultilabelHammingDistance(num_labels=10)\n",
        "valid_metric = MultilabelHammingDistance(num_labels=10)\n",
        "\n",
        "# set metric\n",
        "trainer.set_metric(train_metric.to(device), valid_metric.to(device))\n",
        "\n",
        "# set checkpoint\n",
        "trainer.set_checkpoint(save_path=run_folder,\n",
        "                       save_best=True, save_every_n_epochs=1)\n",
        "\n",
        "trainer.set_early_stopping(patience=hyperparameters.PATIENCE)\n",
        "\n",
        "trainer.set_gradient_clipping(hyperparameters.CLIP_TYPE, hyperparameters.CLIP_VALUE, norm_type=2)\n"
      ]
    },
    {
      "cell_type": "code",
      "execution_count": null,
      "metadata": {
        "id": "gKrtJPwrsGHK",
        "outputId": "e9f3a4d3-f909-4430-919c-eb1217ef6c1a",
        "colab": {
          "base_uri": "https://localhost:8080/"
        }
      },
      "outputs": [
        {
          "output_type": "stream",
          "name": "stdout",
          "text": [
            "Epoch 1/5 - Train Loss: 0.5622, Train Metric: 0.2605, Train Time: 0:00:03.465118\n",
            "Epoch 1/5 - Val Loss: 0.2407, Val Metric: 0.0750, Val Time: 0:00:00.865300\n",
            "\n",
            "Epoch 2/5 - Train Loss: 0.2312, Train Metric: 0.0820, Train Time: 0:00:04.488951\n",
            "Epoch 2/5 - Val Loss: 0.1672, Val Metric: 0.0602, Val Time: 0:00:00.813522\n",
            "\n",
            "Epoch 3/5 - Train Loss: 0.1785, Train Metric: 0.0637, Train Time: 0:00:03.365640\n",
            "Epoch 3/5 - Val Loss: 0.1468, Val Metric: 0.0543, Val Time: 0:00:01.058857\n",
            "\n",
            "Epoch 4/5 - Train Loss: 0.1538, Train Metric: 0.0550, Train Time: 0:00:04.149250\n",
            "Epoch 4/5 - Val Loss: 0.1337, Val Metric: 0.0502, Val Time: 0:00:01.400110\n",
            "\n",
            "Epoch 5/5 - Train Loss: 0.1377, Train Metric: 0.0496, Train Time: 0:00:03.691928\n",
            "Epoch 5/5 - Val Loss: 0.1249, Val Metric: 0.0464, Val Time: 0:00:00.803816\n",
            "\n"
          ]
        }
      ],
      "source": [
        "trainer.train(num_epochs=hyperparameters.EPOCHS, multilabel= True)"
      ]
    },
    {
      "cell_type": "code",
      "execution_count": null,
      "metadata": {
        "colab": {
          "base_uri": "https://localhost:8080/",
          "height": 881
        },
        "execution": {
          "iopub.execute_input": "2022-10-02T11:18:59.063373Z",
          "iopub.status.busy": "2022-10-02T11:18:59.063161Z",
          "iopub.status.idle": "2022-10-02T11:19:10.388677Z",
          "shell.execute_reply": "2022-10-02T11:19:10.388079Z",
          "shell.execute_reply.started": "2022-10-02T11:18:59.063359Z"
        },
        "id": "LckLb_9bhZDw",
        "outputId": "1558ddbe-7420-44eb-f112-a479117762db",
        "tags": []
      },
      "outputs": [
        {
          "output_type": "display_data",
          "data": {
            "text/plain": [
              "<Figure size 640x480 with 1 Axes>"
            ],
            "image/png": "[encoded data removed]"
          },
          "metadata": {}
        },
        {
          "output_type": "display_data",
          "data": {
            "text/plain": [
              "<Figure size 640x480 with 1 Axes>"
            ],
            "image/png": "[encoded data removed]"
          },
          "metadata": {}
        }
      ],
      "source": [
        "trainer.plot_history()\n"
      ]
    },
    {
      "cell_type": "code",
      "source": [],
      "metadata": {
        "id": "twI6w5jSgE4X"
      },
      "execution_count": null,
      "outputs": []
    },
    {
      "cell_type": "markdown",
      "metadata": {
        "id": "zqeB0xrEgIeo"
      },
      "source": [
        "# <Font color = 'pickle'>**More Epochs**"
      ]
    },
    {
      "cell_type": "code",
      "source": [
        "lastfile = 'checkpoint_' + str(trainer.timestamp) + '_epoch_5.pt'\n",
        "trainer.load_checkpoint(run_folder /lastfile)"
      ],
      "metadata": {
        "colab": {
          "base_uri": "https://localhost:8080/"
        },
        "id": "K_bnQSkkgE_2",
        "outputId": "8e96ae5c-5545-4dbd-d083-6aac7e1340a9"
      },
      "execution_count": null,
      "outputs": [
        {
          "output_type": "stream",
          "name": "stdout",
          "text": [
            "Loaded checkpoint from '/content/drive/MyDrive/models/nlp_spring_2023/hw6/run1/checkpoint_2023-04-09_16-20-43_epoch_5.pt'.\n"
          ]
        }
      ]
    },
    {
      "cell_type": "code",
      "source": [
        "trainer.train(num_epochs=10, multilabel= True)"
      ],
      "metadata": {
        "colab": {
          "base_uri": "https://localhost:8080/"
        },
        "id": "FHCfwlJVgZtX",
        "outputId": "983fb452-6b1a-459a-d2fd-3bee99bffa8d"
      },
      "execution_count": null,
      "outputs": [
        {
          "output_type": "stream",
          "name": "stdout",
          "text": [
            "Epoch 1/10 - Train Loss: 0.1253, Train Metric: 0.0448, Train Time: 0:00:03.861129\n",
            "Epoch 1/10 - Val Loss: 0.1173, Val Metric: 0.0436, Val Time: 0:00:01.384142\n",
            "\n",
            "Epoch 2/10 - Train Loss: 0.1144, Train Metric: 0.0408, Train Time: 0:00:03.553824\n",
            "Epoch 2/10 - Val Loss: 0.1125, Val Metric: 0.0418, Val Time: 0:00:00.791388\n",
            "\n",
            "Epoch 3/10 - Train Loss: 0.1067, Train Metric: 0.0386, Train Time: 0:00:03.358542\n",
            "Epoch 3/10 - Val Loss: 0.1085, Val Metric: 0.0401, Val Time: 0:00:00.793682\n",
            "\n",
            "Epoch 4/10 - Train Loss: 0.0987, Train Metric: 0.0358, Train Time: 0:00:05.244291\n",
            "Epoch 4/10 - Val Loss: 0.1067, Val Metric: 0.0388, Val Time: 0:00:00.966960\n",
            "\n",
            "Epoch 5/10 - Train Loss: 0.0931, Train Metric: 0.0335, Train Time: 0:00:03.618874\n",
            "Epoch 5/10 - Val Loss: 0.1052, Val Metric: 0.0378, Val Time: 0:00:00.803659\n",
            "\n",
            "Epoch 6/10 - Train Loss: 0.0874, Train Metric: 0.0316, Train Time: 0:00:03.378085\n",
            "Epoch 6/10 - Val Loss: 0.1033, Val Metric: 0.0372, Val Time: 0:00:01.481171\n",
            "\n",
            "EarlyStopping counter: 1 out of 5\n",
            "Epoch 7/10 - Train Loss: 0.0823, Train Metric: 0.0297, Train Time: 0:00:04.218247\n",
            "Epoch 7/10 - Val Loss: 0.1037, Val Metric: 0.0365, Val Time: 0:00:00.826078\n",
            "\n",
            "EarlyStopping counter: 2 out of 5\n",
            "Epoch 8/10 - Train Loss: 0.0764, Train Metric: 0.0275, Train Time: 0:00:03.818797\n",
            "Epoch 8/10 - Val Loss: 0.1034, Val Metric: 0.0360, Val Time: 0:00:00.797705\n",
            "\n",
            "EarlyStopping counter: 3 out of 5\n",
            "Epoch 9/10 - Train Loss: 0.0734, Train Metric: 0.0268, Train Time: 0:00:04.347831\n",
            "Epoch 9/10 - Val Loss: 0.1035, Val Metric: 0.0356, Val Time: 0:00:01.375593\n",
            "\n",
            "EarlyStopping counter: 4 out of 5\n",
            "Epoch 10/10 - Train Loss: 0.0690, Train Metric: 0.0252, Train Time: 0:00:03.527038\n",
            "Epoch 10/10 - Val Loss: 0.1040, Val Metric: 0.0354, Val Time: 0:00:00.802184\n",
            "\n"
          ]
        }
      ]
    },
    {
      "cell_type": "code",
      "source": [
        "trainer.plot_history()"
      ],
      "metadata": {
        "colab": {
          "base_uri": "https://localhost:8080/",
          "height": 881
        },
        "id": "LbE9IMZ_gZy3",
        "outputId": "3a28335a-0cce-4e0d-d22e-56a0298a4447"
      },
      "execution_count": null,
      "outputs": [
        {
          "output_type": "display_data",
          "data": {
            "text/plain": [
              "<Figure size 640x480 with 1 Axes>"
            ],
            "image/png": "[encoded data removed]"
          },
          "metadata": {}
        },
        {
          "output_type": "display_data",
          "data": {
            "text/plain": [
              "<Figure size 640x480 with 1 Axes>"
            ],
            "image/png": "[encoded data removed]"
          },
          "metadata": {}
        }
      ]
    },
    {
      "cell_type": "markdown",
      "metadata": {
        "id": "c-Cj1f2Qb74K"
      },
      "source": [
        "# <Font color = 'pickle'>**Get Accuracy, Predictions**"
      ]
    },
    {
      "cell_type": "code",
      "execution_count": null,
      "metadata": {
        "id": "DI-1ZOsBsGHM",
        "outputId": "9a0cc137-e2da-4ba7-b37c-404d128508fe",
        "colab": {
          "base_uri": "https://localhost:8080/"
        }
      },
      "outputs": [
        {
          "output_type": "stream",
          "name": "stdout",
          "text": [
            "Loaded checkpoint from '/content/drive/MyDrive/models/nlp_spring_2023/hw6/run1/checkpoint_2023-04-09_16-20-43_best.pt'.\n"
          ]
        }
      ],
      "source": [
        "file = 'checkpoint_' + str(trainer.timestamp) + '_best.pt'\n",
        "trainer.load_checkpoint(run_folder /file)"
      ]
    },
    {
      "cell_type": "code",
      "execution_count": null,
      "metadata": {
        "id": "mv7k9YEvsGHM"
      },
      "outputs": [],
      "source": [
        "# Get the prediction and accuracy for the test dataset\n",
        "\n",
        "predictions_test, target_test = trainer.predict(test_loader, return_targets=True, multilabel=True)\n",
        "predictions_train, target_train = trainer.predict(train_loader, return_targets=True, multilabel=True)\n",
        "predictions_valid, target_valid = trainer.predict(valid_loader, return_targets=True, multilabel=True)"
      ]
    },
    {
      "cell_type": "code",
      "source": [
        "print(\"Test set shapes: \", predictions_test.shape, target_test.shape)\n",
        "print(\"Training set shapes: \", predictions_train.shape, target_train.shape)\n",
        "print(\"Validation set shapes: \", predictions_valid.shape, target_valid.shape)"
      ],
      "metadata": {
        "colab": {
          "base_uri": "https://localhost:8080/"
        },
        "id": "fQzkvtyQhOyf",
        "outputId": "2e9773a9-1094-4314-c02e-5449e834aa0f"
      },
      "execution_count": null,
      "outputs": [
        {
          "output_type": "stream",
          "name": "stdout",
          "text": [
            "Test set shapes:  torch.Size([9486, 10]) torch.Size([9486, 10])\n",
            "Training set shapes:  torch.Size([28456, 10]) torch.Size([28456, 10])\n",
            "Validation set shapes:  torch.Size([9485, 10]) torch.Size([9485, 10])\n"
          ]
        }
      ]
    },
    {
      "cell_type": "code",
      "execution_count": null,
      "metadata": {
        "id": "weZkdNuasGHM"
      },
      "outputs": [],
      "source": [
        "# Compute F1 score for all datasets\n",
        "\n",
        "f1_test = multilabel_f1_score(predictions_test, target_test, num_labels=10)\n",
        "f1_train = multilabel_f1_score(predictions_train, target_train, num_labels=10)\n",
        "f1_valid = multilabel_f1_score(predictions_valid, target_valid, num_labels=10)"
      ]
    },
    {
      "cell_type": "code",
      "source": [
        "# Compute Hamming distance for all datasets\n",
        "\n",
        "hamming_test = multilabel_hamming_distance(predictions_test, target_test, num_labels=10)\n",
        "hamming_train = multilabel_hamming_distance(predictions_train, target_train, num_labels=10)\n",
        "hamming_valid = multilabel_hamming_distance(predictions_valid, target_valid, num_labels=10)"
      ],
      "metadata": {
        "id": "DXZMekKgi0YR"
      },
      "execution_count": null,
      "outputs": []
    },
    {
      "cell_type": "code",
      "execution_count": null,
      "metadata": {
        "id": "viHkgZ3EsGHN",
        "colab": {
          "base_uri": "https://localhost:8080/"
        },
        "outputId": "d4221def-c851-4e4f-957c-194bb27db7fc"
      },
      "outputs": [
        {
          "output_type": "stream",
          "name": "stdout",
          "text": [
            "Test f1score tensor(81.2779)\n",
            "Train f1score tensor(87.3615)\n",
            "Valid f1score tensor(80.8541)\n"
          ]
        }
      ],
      "source": [
        "# Print F1 Scores\n",
        "print('Test f1score', f1_test * 100)\n",
        "print('Train f1score', f1_train * 100)\n",
        "print('Valid f1score', f1_valid * 100)"
      ]
    },
    {
      "cell_type": "code",
      "execution_count": null,
      "metadata": {
        "id": "DdyXdTsFsGHO",
        "colab": {
          "base_uri": "https://localhost:8080/"
        },
        "outputId": "5d55f01e-1bab-4437-9a51-5596abac6c1b"
      },
      "outputs": [
        {
          "output_type": "stream",
          "name": "stdout",
          "text": [
            "Test Hamming distance score tensor(0.0352)\n",
            "Train Hamming distance score tensor(0.0208)\n",
            "Valid Hamming distance score tensor(0.0372)\n"
          ]
        }
      ],
      "source": [
        "# Print Hamming distance Scores\n",
        "print('Test Hamming distance score', hamming_test )\n",
        "print('Train Hamming distance score', hamming_train)\n",
        "print('Valid Hamming distance score', hamming_valid)"
      ]
    },
    {
      "cell_type": "code",
      "source": [],
      "metadata": {
        "id": "DeCUgLGl1NcA"
      },
      "execution_count": null,
      "outputs": []
    }
  ],
  "metadata": {
    "accelerator": "GPU",
    "colab": {
      "machine_shape": "hm",
      "provenance": []
    },
    "gpuClass": "standard",
    "kernelspec": {
      "display_name": "base",
      "language": "python",
      "name": "python3"
    },
    "language_info": {
      "codemirror_mode": {
        "name": "ipython",
        "version": 3
      },
      "file_extension": ".py",
      "mimetype": "text/x-python",
      "name": "python",
      "nbconvert_exporter": "python",
      "pygments_lexer": "ipython3",
      "version": "3.9.16"
    },
    "vscode": {
      "interpreter": {
        "hash": "a75929e85776ec4eb9d0646d55dce2d9636f6a302fc78e3e6babaf08df8451b4"
      }
    }
  },
  "nbformat": 4,
  "nbformat_minor": 0
}